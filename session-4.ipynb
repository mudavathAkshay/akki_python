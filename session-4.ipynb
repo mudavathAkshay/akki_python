{
 "cells": [
  {
   "cell_type": "markdown",
   "id": "55032e5f",
   "metadata": {},
   "source": [
    "* integer\n",
    "* fioat\n",
    "* string\n",
    "* boolean\n",
    "* complex\n",
    "* in to float,in to str,in to bool,in to complex\n",
    "* it is called as type casting"
   ]
  },
  {
   "cell_type": "code",
   "execution_count": 1,
   "id": "f9f4ef0a",
   "metadata": {},
   "outputs": [
    {
     "data": {
      "text/plain": [
       "int"
      ]
     },
     "execution_count": 1,
     "metadata": {},
     "output_type": "execute_result"
    }
   ],
   "source": [
    "number=10\n",
    "type(number)"
   ]
  },
  {
   "cell_type": "code",
   "execution_count": 2,
   "id": "4161d1e7",
   "metadata": {},
   "outputs": [
    {
     "data": {
      "text/plain": [
       "(10+0j)"
      ]
     },
     "execution_count": 2,
     "metadata": {},
     "output_type": "execute_result"
    }
   ],
   "source": [
    "# in to float\n",
    "float(number) # 10.0\n",
    "# in to str\n",
    "str(number) # 10\n",
    "# in to bool\n",
    "bool(number) #10\n",
    "# in to complex\n",
    "complex(number) #10"
   ]
  },
  {
   "cell_type": "code",
   "execution_count": 3,
   "id": "7449a186",
   "metadata": {},
   "outputs": [
    {
     "data": {
      "text/plain": [
       "10.0"
      ]
     },
     "execution_count": 3,
     "metadata": {},
     "output_type": "execute_result"
    }
   ],
   "source": [
    "float(number)"
   ]
  },
  {
   "cell_type": "code",
   "execution_count": 4,
   "id": "51c628fe",
   "metadata": {},
   "outputs": [
    {
     "data": {
      "text/plain": [
       "'10'"
      ]
     },
     "execution_count": 4,
     "metadata": {},
     "output_type": "execute_result"
    }
   ],
   "source": [
    "str(number)"
   ]
  },
  {
   "cell_type": "code",
   "execution_count": 5,
   "id": "385f6f03",
   "metadata": {},
   "outputs": [
    {
     "data": {
      "text/plain": [
       "True"
      ]
     },
     "execution_count": 5,
     "metadata": {},
     "output_type": "execute_result"
    }
   ],
   "source": [
    "bool(number)"
   ]
  },
  {
   "cell_type": "code",
   "execution_count": 6,
   "id": "db2014a2",
   "metadata": {},
   "outputs": [
    {
     "data": {
      "text/plain": [
       "(10+0j)"
      ]
     },
     "execution_count": 6,
     "metadata": {},
     "output_type": "execute_result"
    }
   ],
   "source": [
    "complex(number)"
   ]
  },
  {
   "cell_type": "code",
   "execution_count": 7,
   "id": "0b08d933",
   "metadata": {},
   "outputs": [
    {
     "name": "stdout",
     "output_type": "stream",
     "text": [
      "False\n"
     ]
    }
   ],
   "source": [
    "print(bool(0))"
   ]
  },
  {
   "cell_type": "markdown",
   "id": "dce282f2",
   "metadata": {},
   "source": [
    "* zero value boolean conversion is give false"
   ]
  },
  {
   "cell_type": "code",
   "execution_count": 9,
   "id": "73dee528",
   "metadata": {},
   "outputs": [
    {
     "data": {
      "text/plain": [
       "((20+0j), (20+17j))"
      ]
     },
     "execution_count": 9,
     "metadata": {},
     "output_type": "execute_result"
    }
   ],
   "source": [
    "complex(20),complex(20,17)\n",
    "# take your cursor in side the bracket\n",
    "# apply shift + tab at a time"
   ]
  },
  {
   "cell_type": "code",
   "execution_count": 16,
   "id": "37efe988",
   "metadata": {},
   "outputs": [
    {
     "data": {
      "text/plain": [
       "14"
      ]
     },
     "execution_count": 16,
     "metadata": {},
     "output_type": "execute_result"
    }
   ],
   "source": [
    "import random\n",
    "random.randint(10,50) "
   ]
  },
  {
   "cell_type": "code",
   "execution_count": 17,
   "id": "5945a778",
   "metadata": {},
   "outputs": [
    {
     "data": {
      "text/plain": [
       "0.4213744042145562"
      ]
     },
     "execution_count": 17,
     "metadata": {},
     "output_type": "execute_result"
    }
   ],
   "source": [
    "random.random()"
   ]
  },
  {
   "cell_type": "code",
   "execution_count": 18,
   "id": "2b4baf71",
   "metadata": {},
   "outputs": [
    {
     "data": {
      "text/plain": [
       "(10+0j)"
      ]
     },
     "execution_count": 18,
     "metadata": {},
     "output_type": "execute_result"
    }
   ],
   "source": [
    "complex(10)"
   ]
  },
  {
   "cell_type": "code",
   "execution_count": 19,
   "id": "a955ceb6",
   "metadata": {},
   "outputs": [
    {
     "data": {
      "text/plain": [
       "0j"
      ]
     },
     "execution_count": 19,
     "metadata": {},
     "output_type": "execute_result"
    }
   ],
   "source": [
    "complex()"
   ]
  },
  {
   "cell_type": "markdown",
   "id": "82b9b7b3",
   "metadata": {},
   "source": [
    "# float to other"
   ]
  },
  {
   "cell_type": "code",
   "execution_count": 20,
   "id": "b8460ce1",
   "metadata": {},
   "outputs": [
    {
     "name": "stdout",
     "output_type": "stream",
     "text": [
      "10\n",
      "10.5\n",
      "True\n",
      "(10.5+0j)\n"
     ]
    }
   ],
   "source": [
    "print(int(10.5))\n",
    "print(str(10.5))\n",
    "print(bool(10.5))\n",
    "print(complex(10.5))"
   ]
  },
  {
   "cell_type": "markdown",
   "id": "199b8c94",
   "metadata": {},
   "source": [
    "# string to other"
   ]
  },
  {
   "cell_type": "code",
   "execution_count": 24,
   "id": "9098f5d3",
   "metadata": {},
   "outputs": [
    {
     "name": "stdout",
     "output_type": "stream",
     "text": [
      "True\n"
     ]
    }
   ],
   "source": [
    "print(bool('python'))\n",
    "# name only bool can print the string \n",
    "# name the int and complex are give the error"
   ]
  },
  {
   "cell_type": "code",
   "execution_count": 28,
   "id": "908a5551",
   "metadata": {},
   "outputs": [
    {
     "name": "stdout",
     "output_type": "stream",
     "text": [
      "10\n",
      "10.0\n",
      "True\n",
      "(10+0j)\n"
     ]
    }
   ],
   "source": [
    "print(int('10'))\n",
    "print(float('10'))\n",
    "print(bool('10'))\n",
    "print(complex('10'))"
   ]
  },
  {
   "cell_type": "code",
   "execution_count": 30,
   "id": "28f72088",
   "metadata": {},
   "outputs": [
    {
     "name": "stdout",
     "output_type": "stream",
     "text": [
      "10.5\n",
      "True\n",
      "(10.5+0j)\n"
     ]
    }
   ],
   "source": [
    "# string to other\n",
    "#print(int('10.5'))\n",
    "print(float('10.5'))\n",
    "print(bool('10.5'))\n",
    "print(complex('10.5'))"
   ]
  },
  {
   "cell_type": "code",
   "execution_count": null,
   "id": "66ec66a3",
   "metadata": {},
   "outputs": [],
   "source": [
    "'10'=====can convert int it can convert float\n",
    "'10.5'===== can not convert int but it can convert float"
   ]
  },
  {
   "cell_type": "markdown",
   "id": "800ebce2",
   "metadata": {},
   "source": [
    "# bool to other"
   ]
  },
  {
   "cell_type": "code",
   "execution_count": 33,
   "id": "8b0dc11c",
   "metadata": {},
   "outputs": [
    {
     "name": "stdout",
     "output_type": "stream",
     "text": [
      "1\n",
      "1.0\n",
      "True\n",
      "(1+0j)\n"
     ]
    }
   ],
   "source": [
    "print(int(True))\n",
    "print(float(True))\n",
    "print(str(True))\n",
    "print(complex(True))"
   ]
  },
  {
   "cell_type": "code",
   "execution_count": 37,
   "id": "32eb4290",
   "metadata": {},
   "outputs": [
    {
     "name": "stdout",
     "output_type": "stream",
     "text": [
      "0\n",
      "0.0\n",
      "False\n",
      "0j\n"
     ]
    }
   ],
   "source": [
    "print(int(False))\n",
    "print(float(False))\n",
    "print(str(False))\n",
    "print(complex(False)) "
   ]
  },
  {
   "cell_type": "markdown",
   "id": "2469b310",
   "metadata": {},
   "source": [
    "# complex to other"
   ]
  },
  {
   "cell_type": "code",
   "execution_count": 38,
   "id": "24577063",
   "metadata": {},
   "outputs": [
    {
     "ename": "TypeError",
     "evalue": "int() argument must be a string, a bytes-like object or a real number, not 'complex'",
     "output_type": "error",
     "traceback": [
      "\u001b[1;31m---------------------------------------------------------------------------\u001b[0m",
      "\u001b[1;31mTypeError\u001b[0m                                 Traceback (most recent call last)",
      "Cell \u001b[1;32mIn[38], line 1\u001b[0m\n\u001b[1;32m----> 1\u001b[0m \u001b[38;5;28mprint\u001b[39m(\u001b[38;5;28mint\u001b[39m(\u001b[38;5;241m3\u001b[39m\u001b[38;5;241m+\u001b[39m\u001b[38;5;241m4\u001b[39mj))\n",
      "\u001b[1;31mTypeError\u001b[0m: int() argument must be a string, a bytes-like object or a real number, not 'complex'"
     ]
    }
   ],
   "source": [
    "print(int(3+4j))"
   ]
  },
  {
   "cell_type": "code",
   "execution_count": 39,
   "id": "51738d1e",
   "metadata": {},
   "outputs": [
    {
     "ename": "TypeError",
     "evalue": "float() argument must be a string or a real number, not 'complex'",
     "output_type": "error",
     "traceback": [
      "\u001b[1;31m---------------------------------------------------------------------------\u001b[0m",
      "\u001b[1;31mTypeError\u001b[0m                                 Traceback (most recent call last)",
      "Cell \u001b[1;32mIn[39], line 1\u001b[0m\n\u001b[1;32m----> 1\u001b[0m \u001b[38;5;28mprint\u001b[39m(\u001b[38;5;28mfloat\u001b[39m(\u001b[38;5;241m3\u001b[39m\u001b[38;5;241m+\u001b[39m\u001b[38;5;241m4\u001b[39mj))\n",
      "\u001b[1;31mTypeError\u001b[0m: float() argument must be a string or a real number, not 'complex'"
     ]
    }
   ],
   "source": [
    "print(float(3+4j))"
   ]
  },
  {
   "cell_type": "code",
   "execution_count": 41,
   "id": "3fda8fbd",
   "metadata": {},
   "outputs": [
    {
     "name": "stdout",
     "output_type": "stream",
     "text": [
      "3+4j\n"
     ]
    }
   ],
   "source": [
    "print(str('3+4j'))"
   ]
  },
  {
   "cell_type": "code",
   "execution_count": 42,
   "id": "48e6a381",
   "metadata": {},
   "outputs": [
    {
     "name": "stdout",
     "output_type": "stream",
     "text": [
      "True\n"
     ]
    }
   ],
   "source": [
    "print(bool(3+4j))"
   ]
  },
  {
   "cell_type": "code",
   "execution_count": 43,
   "id": "a7a32fdb",
   "metadata": {},
   "outputs": [
    {
     "name": "stdout",
     "output_type": "stream",
     "text": [
      "False\n"
     ]
    }
   ],
   "source": [
    "print(bool(0))"
   ]
  },
  {
   "cell_type": "code",
   "execution_count": null,
   "id": "7885527f",
   "metadata": {},
   "outputs": [],
   "source": []
  }
 ],
 "metadata": {
  "kernelspec": {
   "display_name": "Python 3 (ipykernel)",
   "language": "python",
   "name": "python3"
  },
  "language_info": {
   "codemirror_mode": {
    "name": "ipython",
    "version": 3
   },
   "file_extension": ".py",
   "mimetype": "text/x-python",
   "name": "python",
   "nbconvert_exporter": "python",
   "pygments_lexer": "ipython3",
   "version": "3.11.5"
  }
 },
 "nbformat": 4,
 "nbformat_minor": 5
}
