{
 "cells": [
  {
   "cell_type": "markdown",
   "id": "f9c374cd",
   "metadata": {},
   "source": [
    "# print statement"
   ]
  },
  {
   "cell_type": "code",
   "execution_count": 1,
   "id": "ab47d769",
   "metadata": {},
   "outputs": [
    {
     "data": {
      "text/plain": [
       "10"
      ]
     },
     "execution_count": 1,
     "metadata": {},
     "output_type": "execute_result"
    }
   ],
   "source": [
    "number=10\n",
    "number"
   ]
  },
  {
   "cell_type": "code",
   "execution_count": 3,
   "id": "4f96bff5",
   "metadata": {},
   "outputs": [
    {
     "name": "stdout",
     "output_type": "stream",
     "text": [
      "10\n"
     ]
    }
   ],
   "source": [
    "print(number)"
   ]
  },
  {
   "cell_type": "code",
   "execution_count": 4,
   "id": "433094cc",
   "metadata": {},
   "outputs": [
    {
     "name": "stdout",
     "output_type": "stream",
     "text": [
      "10 30 50\n"
     ]
    }
   ],
   "source": [
    "num1=10\n",
    "num2=30\n",
    "num3=50\n",
    "print(num1,num2,num3)"
   ]
  },
  {
   "cell_type": "code",
   "execution_count": 5,
   "id": "db8cef98",
   "metadata": {},
   "outputs": [
    {
     "name": "stdout",
     "output_type": "stream",
     "text": [
      "hello python\n"
     ]
    }
   ],
   "source": [
    "print('hello python')"
   ]
  },
  {
   "cell_type": "code",
   "execution_count": 7,
   "id": "d757af0a",
   "metadata": {},
   "outputs": [
    {
     "name": "stdout",
     "output_type": "stream",
     "text": [
      "10 20 50\n"
     ]
    }
   ],
   "source": [
    "print(10,20,50)"
   ]
  },
  {
   "cell_type": "code",
   "execution_count": 8,
   "id": "16523645",
   "metadata": {},
   "outputs": [
    {
     "name": "stdout",
     "output_type": "stream",
     "text": [
      "10 and 20\n"
     ]
    }
   ],
   "source": [
    "print('10 and 20')"
   ]
  },
  {
   "cell_type": "code",
   "execution_count": 10,
   "id": "e931f4e1",
   "metadata": {},
   "outputs": [
    {
     "name": "stdout",
     "output_type": "stream",
     "text": [
      "10 and 20\n",
      "10 and 20\n",
      "10 and 20\n"
     ]
    }
   ],
   "source": [
    "num1=10\n",
    "num2=20\n",
    "print('10 and 20')\n",
    "print(num1,'and',num2)\n",
    "print(10,'and',20)"
   ]
  },
  {
   "cell_type": "code",
   "execution_count": 11,
   "id": "64631f42",
   "metadata": {},
   "outputs": [
    {
     "name": "stdout",
     "output_type": "stream",
     "text": [
      "the addition of 10 and 60 is 70\n"
     ]
    }
   ],
   "source": [
    "a=10\n",
    "b=60\n",
    "c=a+b\n",
    "# the addition of 10 and 60 is 70\n",
    "print('the addition of',a,'and',b,'is',c)"
   ]
  },
  {
   "cell_type": "code",
   "execution_count": 14,
   "id": "ff9683a1",
   "metadata": {},
   "outputs": [
    {
     "name": "stdout",
     "output_type": "stream",
     "text": [
      "my name is akshay iam from gundaram iam 20 years old\n"
     ]
    }
   ],
   "source": [
    "name='akshay'\n",
    "city='gundaram'\n",
    "age=20\n",
    "print('my name is',name,'iam from',city,'iam',age,'years old')"
   ]
  },
  {
   "cell_type": "markdown",
   "id": "c62d2263",
   "metadata": {},
   "source": [
    "# method-2"
   ]
  },
  {
   "cell_type": "code",
   "execution_count": 18,
   "id": "78fb26d0",
   "metadata": {},
   "outputs": [
    {
     "name": "stdout",
     "output_type": "stream",
     "text": [
      "my name isakshayiam fromgundaramiam20years old\n"
     ]
    }
   ],
   "source": [
    "name='akshay'\n",
    "city='gundaram'\n",
    "age=20\n",
    "print('my name is{}iam from{}iam{}years old'. format(name,city,age))\n"
   ]
  },
  {
   "cell_type": "markdown",
   "id": "67de1470",
   "metadata": {},
   "source": [
    "# method-3"
   ]
  },
  {
   "cell_type": "code",
   "execution_count": 21,
   "id": "34d82c3b",
   "metadata": {},
   "outputs": [
    {
     "name": "stdout",
     "output_type": "stream",
     "text": [
      "my name is akshay iam fromgundaramiam20 years old \n"
     ]
    }
   ],
   "source": [
    "name='akshay'\n",
    "city='gundaram'\n",
    "age=20\n",
    "print(f'my name is {name} iam from{city}iam{age} years old ')"
   ]
  },
  {
   "cell_type": "markdown",
   "id": "d111e890",
   "metadata": {},
   "source": [
    "# end"
   ]
  },
  {
   "cell_type": "code",
   "execution_count": 22,
   "id": "71f4a03b",
   "metadata": {},
   "outputs": [
    {
     "name": "stdout",
     "output_type": "stream",
     "text": [
      "1 2 3\n"
     ]
    }
   ],
   "source": [
    "print(1,end=' ')\n",
    "print(2,end=' ')\n",
    "print(3)"
   ]
  },
  {
   "cell_type": "code",
   "execution_count": 28,
   "id": "244e0de7",
   "metadata": {},
   "outputs": [
    {
     "name": "stdout",
     "output_type": "stream",
     "text": [
      "iam       learing   python\n"
     ]
    }
   ],
   "source": [
    "print('iam       ', end='learing')\n",
    "print('   python')"
   ]
  },
  {
   "cell_type": "code",
   "execution_count": 34,
   "id": "2f7a4266",
   "metadata": {},
   "outputs": [
    {
     "name": "stdout",
     "output_type": "stream",
     "text": [
      "t20 world cup  schedule will be heald  from jun3\n"
     ]
    }
   ],
   "source": [
    "print('t20 world cup ',end=' schedule will ')\n",
    "print('be heald  ',end='from ')\n",
    "print('jun3')\n"
   ]
  },
  {
   "cell_type": "markdown",
   "id": "0f1698c5",
   "metadata": {},
   "source": [
    "# separate"
   ]
  },
  {
   "cell_type": "code",
   "execution_count": 38,
   "id": "da6d16de",
   "metadata": {},
   "outputs": [
    {
     "name": "stdout",
     "output_type": "stream",
     "text": [
      "akki and janu and chutki\n"
     ]
    }
   ],
   "source": [
    "print('akki','janu','chutki',sep=' and ')"
   ]
  },
  {
   "cell_type": "markdown",
   "id": "25dd2e9c",
   "metadata": {},
   "source": [
    "* format\n",
    "* fstring\n",
    "* end\n",
    "* sep"
   ]
  },
  {
   "cell_type": "code",
   "execution_count": null,
   "id": "d5ffc728",
   "metadata": {},
   "outputs": [],
   "source": []
  }
 ],
 "metadata": {
  "kernelspec": {
   "display_name": "Python 3 (ipykernel)",
   "language": "python",
   "name": "python3"
  },
  "language_info": {
   "codemirror_mode": {
    "name": "ipython",
    "version": 3
   },
   "file_extension": ".py",
   "mimetype": "text/x-python",
   "name": "python",
   "nbconvert_exporter": "python",
   "pygments_lexer": "ipython3",
   "version": "3.11.5"
  }
 },
 "nbformat": 4,
 "nbformat_minor": 5
}
