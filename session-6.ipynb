{
 "cells": [
  {
   "cell_type": "code",
   "execution_count": 1,
   "id": "02fa5d37",
   "metadata": {},
   "outputs": [
    {
     "name": "stdout",
     "output_type": "stream",
     "text": [
      "the addition 0f 10,60 and 50 is 120\n"
     ]
    }
   ],
   "source": [
    "num1=10\n",
    "num2=60\n",
    "num3=50\n",
    "add=num1+num2+num3\n",
    "print(f'the addition 0f {num1},{num2} and {num3} is {add}')"
   ]
  },
  {
   "cell_type": "markdown",
   "id": "9f930e9f",
   "metadata": {},
   "source": [
    "# input"
   ]
  },
  {
   "cell_type": "code",
   "execution_count": 2,
   "id": "cfa1f8d6",
   "metadata": {},
   "outputs": [
    {
     "name": "stdout",
     "output_type": "stream",
     "text": [
      "50\n"
     ]
    },
    {
     "data": {
      "text/plain": [
       "'50'"
      ]
     },
     "execution_count": 2,
     "metadata": {},
     "output_type": "execute_result"
    }
   ],
   "source": [
    "input()"
   ]
  },
  {
   "cell_type": "code",
   "execution_count": 4,
   "id": "c554e5c6",
   "metadata": {},
   "outputs": [
    {
     "name": "stdout",
     "output_type": "stream",
     "text": [
      "enter a number:200\n"
     ]
    },
    {
     "data": {
      "text/plain": [
       "'200'"
      ]
     },
     "execution_count": 4,
     "metadata": {},
     "output_type": "execute_result"
    }
   ],
   "source": [
    "input('enter a number:')"
   ]
  },
  {
   "cell_type": "code",
   "execution_count": 5,
   "id": "970e21d8",
   "metadata": {},
   "outputs": [
    {
     "name": "stdout",
     "output_type": "stream",
     "text": [
      "enter a name:janu\n"
     ]
    },
    {
     "data": {
      "text/plain": [
       "'janu'"
      ]
     },
     "execution_count": 5,
     "metadata": {},
     "output_type": "execute_result"
    }
   ],
   "source": [
    "input('enter a name:')"
   ]
  },
  {
   "cell_type": "code",
   "execution_count": 6,
   "id": "b4d4321f",
   "metadata": {},
   "outputs": [
    {
     "name": "stdout",
     "output_type": "stream",
     "text": [
      "enter a number:50\n",
      "enter a number:90\n"
     ]
    },
    {
     "data": {
      "text/plain": [
       "'5090'"
      ]
     },
     "execution_count": 6,
     "metadata": {},
     "output_type": "execute_result"
    }
   ],
   "source": [
    "num1=input('enter a number:')\n",
    "num2=input('enter a number:')\n",
    "num1+num2"
   ]
  },
  {
   "cell_type": "code",
   "execution_count": 7,
   "id": "6efaff5e",
   "metadata": {},
   "outputs": [
    {
     "data": {
      "text/plain": [
       "'102100'"
      ]
     },
     "execution_count": 7,
     "metadata": {},
     "output_type": "execute_result"
    }
   ],
   "source": [
    "'102'+'100'"
   ]
  },
  {
   "cell_type": "markdown",
   "id": "122fc36e",
   "metadata": {},
   "source": [
    "    the default data type from keybord using input keyboard is string"
   ]
  },
  {
   "cell_type": "code",
   "execution_count": 8,
   "id": "1c87b544",
   "metadata": {},
   "outputs": [
    {
     "name": "stdout",
     "output_type": "stream",
     "text": [
      "enter a number:100\n"
     ]
    },
    {
     "data": {
      "text/plain": [
       "str"
      ]
     },
     "execution_count": 8,
     "metadata": {},
     "output_type": "execute_result"
    }
   ],
   "source": [
    "num1=10\n",
    "type(num1)\n",
    "\n",
    "num2=input('enter a number:')\n",
    "type(num2)\n",
    "\n"
   ]
  },
  {
   "cell_type": "code",
   "execution_count": 10,
   "id": "024bca1c",
   "metadata": {},
   "outputs": [
    {
     "name": "stdout",
     "output_type": "stream",
     "text": [
      "enter a number:10\n",
      "enter a number:20\n",
      "the addition of 10, and 20, is 30\n"
     ]
    }
   ],
   "source": [
    "num1=int(input('enter a number:'))\n",
    "num2=int(input('enter a number:'))\n",
    "add=num1+num2\n",
    "print(f'the addition of {num1}, and {num2}, is {add}')"
   ]
  },
  {
   "cell_type": "code",
   "execution_count": 11,
   "id": "91ba5ffc",
   "metadata": {},
   "outputs": [
    {
     "name": "stdout",
     "output_type": "stream",
     "text": [
      "enter a number50\n",
      "enter a number23.6\n",
      "the subration of 50, and 23.6, is 26.4\n"
     ]
    }
   ],
   "source": [
    "num1=int(input('enter a number'))\n",
    "num2=float(input('enter a number'))\n",
    "sub=num1-num2\n",
    "print(f'the subration of {num1}, and {num2}, is {sub}')"
   ]
  },
  {
   "cell_type": "markdown",
   "id": "eb191bcf",
   "metadata": {},
   "source": [
    "      eval=====    evalute the number automitically based on original data type\n",
    "      "
   ]
  },
  {
   "cell_type": "code",
   "execution_count": 12,
   "id": "53280684",
   "metadata": {},
   "outputs": [
    {
     "name": "stdout",
     "output_type": "stream",
     "text": [
      "enter a number60.4\n",
      "enter a number40.5\n",
      "enter a number60.3\n",
      "the subraction of 60.4, 40.5, and 60.3, is -40.4\n"
     ]
    }
   ],
   "source": [
    "num1=eval(input('enter a number'))\n",
    "num2=eval(input('enter a number'))\n",
    "num3=eval(input('enter a number'))\n",
    "sub=num1-num2-num3\n",
    "print(f'the subraction of {num1}, {num2}, and {num3}, is {sub}')"
   ]
  },
  {
   "cell_type": "code",
   "execution_count": 14,
   "id": "ee81e02e",
   "metadata": {},
   "outputs": [
    {
     "name": "stdout",
     "output_type": "stream",
     "text": [
      "enter a salary100000\n",
      "enter the tax percentage10\n",
      "the total tax pay is 10000.0\n"
     ]
    }
   ],
   "source": [
    "salary=eval(input('enter a salary'))\n",
    "tax_per=eval(input('enter the tax percentage'))\n",
    "tax_pay=salary*tax_per/100\n",
    "print(f'the total tax pay is {tax_pay}')"
   ]
  },
  {
   "cell_type": "code",
   "execution_count": null,
   "id": "496e680e",
   "metadata": {},
   "outputs": [],
   "source": []
  }
 ],
 "metadata": {
  "kernelspec": {
   "display_name": "Python 3 (ipykernel)",
   "language": "python",
   "name": "python3"
  },
  "language_info": {
   "codemirror_mode": {
    "name": "ipython",
    "version": 3
   },
   "file_extension": ".py",
   "mimetype": "text/x-python",
   "name": "python",
   "nbconvert_exporter": "python",
   "pygments_lexer": "ipython3",
   "version": "3.11.5"
  }
 },
 "nbformat": 4,
 "nbformat_minor": 5
}
