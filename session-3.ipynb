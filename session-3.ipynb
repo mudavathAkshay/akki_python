{
 "cells": [
  {
   "cell_type": "code",
   "execution_count": null,
   "id": "0435ca33",
   "metadata": {},
   "outputs": [],
   "source": [
    "# in python we have some basic data types"
   ]
  },
  {
   "cell_type": "markdown",
   "id": "42fe15a4",
   "metadata": {},
   "source": [
    "* integer-int\n",
    "* float-float\n",
    "* string-str\n",
    "* boolean-bool\n",
    "* complex-complex"
   ]
  },
  {
   "cell_type": "markdown",
   "id": "1bdc4147",
   "metadata": {},
   "source": [
    "# integer"
   ]
  },
  {
   "cell_type": "code",
   "execution_count": 1,
   "id": "a1c79472",
   "metadata": {},
   "outputs": [
    {
     "data": {
      "text/plain": [
       "10"
      ]
     },
     "execution_count": 1,
     "metadata": {},
     "output_type": "execute_result"
    }
   ],
   "source": [
    "number=10\n",
    "number"
   ]
  },
  {
   "cell_type": "code",
   "execution_count": 2,
   "id": "eaa985d8",
   "metadata": {},
   "outputs": [
    {
     "data": {
      "text/plain": [
       "int"
      ]
     },
     "execution_count": 2,
     "metadata": {},
     "output_type": "execute_result"
    }
   ],
   "source": [
    "type(number)"
   ]
  },
  {
   "cell_type": "markdown",
   "id": "376fff06",
   "metadata": {},
   "source": [
    "* binary\n",
    "* octa\n",
    "* hexa"
   ]
  },
  {
   "cell_type": "markdown",
   "id": "11d35d66",
   "metadata": {},
   "source": [
    "# binary"
   ]
  },
  {
   "cell_type": "markdown",
   "id": "8dbfc873",
   "metadata": {},
   "source": [
    "* bi means two\n",
    "* it required only two digits\n",
    "* we have 0123456789\n",
    "* to make binary we need only 0 and 1\n",
    "* example: 0b11,0b111"
   ]
  },
  {
   "cell_type": "code",
   "execution_count": 3,
   "id": "47d66956",
   "metadata": {},
   "outputs": [
    {
     "data": {
      "text/plain": [
       "3"
      ]
     },
     "execution_count": 3,
     "metadata": {},
     "output_type": "execute_result"
    }
   ],
   "source": [
    "0b11"
   ]
  },
  {
   "cell_type": "code",
   "execution_count": 7,
   "id": "7e286e5a",
   "metadata": {},
   "outputs": [
    {
     "data": {
      "text/plain": [
       "15"
      ]
     },
     "execution_count": 7,
     "metadata": {},
     "output_type": "execute_result"
    }
   ],
   "source": [
    "0b1111"
   ]
  },
  {
   "cell_type": "markdown",
   "id": "dcda17b6",
   "metadata": {},
   "source": [
    "# octa"
   ]
  },
  {
   "cell_type": "markdown",
   "id": "2b647ad0",
   "metadata": {},
   "source": [
    "* octa means 8\n",
    "* it required only 8 digits\n",
    "* we have 0123456789\n",
    "* to make binary we need 01234567\n",
    "* example: 0o6647,0o7651"
   ]
  },
  {
   "cell_type": "code",
   "execution_count": 8,
   "id": "db42f6a2",
   "metadata": {},
   "outputs": [
    {
     "data": {
      "text/plain": [
       "126"
      ]
     },
     "execution_count": 8,
     "metadata": {},
     "output_type": "execute_result"
    }
   ],
   "source": [
    "0o176"
   ]
  },
  {
   "cell_type": "code",
   "execution_count": 9,
   "id": "8556bfd5",
   "metadata": {},
   "outputs": [
    {
     "data": {
      "text/plain": [
       "14952686"
      ]
     },
     "execution_count": 9,
     "metadata": {},
     "output_type": "execute_result"
    }
   ],
   "source": [
    "0o71024356"
   ]
  },
  {
   "cell_type": "markdown",
   "id": "5f63e0a9",
   "metadata": {},
   "source": [
    "# hexa"
   ]
  },
  {
   "cell_type": "markdown",
   "id": "ca1a6b2e",
   "metadata": {},
   "source": [
    "* octa means 16\n",
    "* it required only 16 digits\n",
    "* we have 0123456789 and A TO F\n",
    "* to make binary we need 012345679ABCDEF\n",
    "* example: 0xa32cd4,0xaf908"
   ]
  },
  {
   "cell_type": "code",
   "execution_count": 10,
   "id": "62fc6ae3",
   "metadata": {},
   "outputs": [
    {
     "data": {
      "text/plain": [
       "43928"
      ]
     },
     "execution_count": 10,
     "metadata": {},
     "output_type": "execute_result"
    }
   ],
   "source": [
    "0xab98c"
   ]
  },
  {
   "cell_type": "code",
   "execution_count": 1,
   "id": "de9dece2",
   "metadata": {},
   "outputs": [
    {
     "data": {
      "text/plain": [
       "1697"
      ]
     },
     "execution_count": 1,
     "metadata": {},
     "output_type": "execute_result"
    }
   ],
   "source": [
    "0x6a1\n",
    "# 16^0*1+16^1*10+16^2*6"
   ]
  },
  {
   "cell_type": "markdown",
   "id": "da873f81",
   "metadata": {},
   "source": [
    "# float"
   ]
  },
  {
   "cell_type": "code",
   "execution_count": 12,
   "id": "6d3f6f83",
   "metadata": {},
   "outputs": [
    {
     "data": {
      "text/plain": [
       "float"
      ]
     },
     "execution_count": 12,
     "metadata": {},
     "output_type": "execute_result"
    }
   ],
   "source": [
    "number=10.56\n",
    "type(number)"
   ]
  },
  {
   "cell_type": "code",
   "execution_count": 13,
   "id": "3f10180e",
   "metadata": {},
   "outputs": [
    {
     "data": {
      "text/plain": [
       "100.0"
      ]
     },
     "execution_count": 13,
     "metadata": {},
     "output_type": "execute_result"
    }
   ],
   "source": [
    "10e1"
   ]
  },
  {
   "cell_type": "code",
   "execution_count": 14,
   "id": "19030f85",
   "metadata": {},
   "outputs": [
    {
     "data": {
      "text/plain": [
       "1000.0"
      ]
     },
     "execution_count": 14,
     "metadata": {},
     "output_type": "execute_result"
    }
   ],
   "source": [
    "10e+2\n",
    "# 10 is multiplying with e1=10,e2=100,e3=1000"
   ]
  },
  {
   "cell_type": "code",
   "execution_count": 15,
   "id": "13bf258e",
   "metadata": {},
   "outputs": [
    {
     "data": {
      "text/plain": [
       "100000.0"
      ]
     },
     "execution_count": 15,
     "metadata": {},
     "output_type": "execute_result"
    }
   ],
   "source": [
    "10e4"
   ]
  },
  {
   "cell_type": "code",
   "execution_count": 16,
   "id": "4c99beaa",
   "metadata": {},
   "outputs": [
    {
     "data": {
      "text/plain": [
       "1235600000000.0"
      ]
     },
     "execution_count": 16,
     "metadata": {},
     "output_type": "execute_result"
    }
   ],
   "source": [
    "123.56e10"
   ]
  },
  {
   "cell_type": "code",
   "execution_count": 17,
   "id": "493788ce",
   "metadata": {},
   "outputs": [
    {
     "data": {
      "text/plain": [
       "0.1"
      ]
     },
     "execution_count": 17,
     "metadata": {},
     "output_type": "execute_result"
    }
   ],
   "source": [
    "10e-2"
   ]
  },
  {
   "cell_type": "code",
   "execution_count": 18,
   "id": "dd40cbb9",
   "metadata": {},
   "outputs": [
    {
     "data": {
      "text/plain": [
       "1.0"
      ]
     },
     "execution_count": 18,
     "metadata": {},
     "output_type": "execute_result"
    }
   ],
   "source": [
    "1000e-3\n",
    "# 10 is divided with e1=10,e2=10"
   ]
  },
  {
   "cell_type": "code",
   "execution_count": 19,
   "id": "366f96b8",
   "metadata": {},
   "outputs": [
    {
     "data": {
      "text/plain": [
       "0.12345"
      ]
     },
     "execution_count": 19,
     "metadata": {},
     "output_type": "execute_result"
    }
   ],
   "source": [
    "10e-1   # 10/10\n",
    "10e-2   # 10/100\n",
    "10e-3   # 10/1000\n",
    "12345e-5"
   ]
  },
  {
   "cell_type": "markdown",
   "id": "832fb684",
   "metadata": {},
   "source": [
    "# string\n"
   ]
  },
  {
   "cell_type": "code",
   "execution_count": null,
   "id": "733cf75c",
   "metadata": {},
   "outputs": [],
   "source": [
    "integer  # variables black colour\n",
    "int      # key words green colour\n",
    "\"integer\" # string red colour"
   ]
  },
  {
   "cell_type": "code",
   "execution_count": 20,
   "id": "4f180f5f",
   "metadata": {},
   "outputs": [
    {
     "data": {
      "text/plain": [
       "'phthon'"
      ]
     },
     "execution_count": 20,
     "metadata": {},
     "output_type": "execute_result"
    }
   ],
   "source": [
    "name=\"phthon\"\n",
    "name"
   ]
  },
  {
   "cell_type": "code",
   "execution_count": 21,
   "id": "cd4a31bf",
   "metadata": {},
   "outputs": [
    {
     "data": {
      "text/plain": [
       "str"
      ]
     },
     "execution_count": 21,
     "metadata": {},
     "output_type": "execute_result"
    }
   ],
   "source": [
    "type(name)"
   ]
  },
  {
   "cell_type": "code",
   "execution_count": 22,
   "id": "bc24f088",
   "metadata": {},
   "outputs": [
    {
     "data": {
      "text/plain": [
       "str"
      ]
     },
     "execution_count": 22,
     "metadata": {},
     "output_type": "execute_result"
    }
   ],
   "source": [
    "name1='hyderabad'\n",
    "type(name)"
   ]
  },
  {
   "cell_type": "code",
   "execution_count": 23,
   "id": "3157f800",
   "metadata": {},
   "outputs": [
    {
     "data": {
      "text/plain": [
       "'python'"
      ]
     },
     "execution_count": 23,
     "metadata": {},
     "output_type": "execute_result"
    }
   ],
   "source": [
    "\"python\""
   ]
  },
  {
   "cell_type": "code",
   "execution_count": 25,
   "id": "c596e5ea",
   "metadata": {},
   "outputs": [
    {
     "name": "stdout",
     "output_type": "stream",
     "text": [
      "hello'python'\n"
     ]
    }
   ],
   "source": [
    "print(\"hello'python'\")"
   ]
  },
  {
   "cell_type": "markdown",
   "id": "08a0e255",
   "metadata": {},
   "source": [
    "* triple quotes are used to write a story of a specific part of code\n",
    "* doc string\n",
    "* if some body using quote means\n",
    "* the user try some thing about that code"
   ]
  },
  {
   "cell_type": "code",
   "execution_count": null,
   "id": "d115ade3",
   "metadata": {},
   "outputs": [],
   "source": []
  },
  {
   "cell_type": "code",
   "execution_count": 27,
   "id": "6decf8d4",
   "metadata": {},
   "outputs": [
    {
     "data": {
      "text/plain": [
       "30"
      ]
     },
     "execution_count": 27,
     "metadata": {},
     "output_type": "execute_result"
    }
   ],
   "source": [
    "'i have performed addition operater here i have taken a value 20'\n",
    "a=10\n",
    "b=20\n",
    "c=a+b\n",
    "c\n"
   ]
  },
  {
   "cell_type": "code",
   "execution_count": 28,
   "id": "eccc8c7b",
   "metadata": {},
   "outputs": [
    {
     "data": {
      "text/plain": [
       "'hellopython'"
      ]
     },
     "execution_count": 28,
     "metadata": {},
     "output_type": "execute_result"
    }
   ],
   "source": [
    "'hello'+'python'"
   ]
  },
  {
   "cell_type": "code",
   "execution_count": 29,
   "id": "edbb04f7",
   "metadata": {},
   "outputs": [
    {
     "data": {
      "text/plain": [
       "'hellopython'"
      ]
     },
     "execution_count": 29,
     "metadata": {},
     "output_type": "execute_result"
    }
   ],
   "source": [
    "'''hello'''+'''python'''"
   ]
  },
  {
   "cell_type": "code",
   "execution_count": 30,
   "id": "3c978fea",
   "metadata": {},
   "outputs": [],
   "source": [
    "import random"
   ]
  },
  {
   "cell_type": "code",
   "execution_count": 32,
   "id": "54712b65",
   "metadata": {},
   "outputs": [
    {
     "data": {
      "text/plain": [
       "0.28482243158270204"
      ]
     },
     "execution_count": 32,
     "metadata": {},
     "output_type": "execute_result"
    }
   ],
   "source": [
    "random.random()"
   ]
  },
  {
   "cell_type": "code",
   "execution_count": 33,
   "id": "81b421b9",
   "metadata": {},
   "outputs": [],
   "source": [
    "# int\n",
    "# float\n",
    "# str"
   ]
  },
  {
   "cell_type": "markdown",
   "id": "4da429a1",
   "metadata": {},
   "source": [
    "# boolean"
   ]
  },
  {
   "cell_type": "code",
   "execution_count": 34,
   "id": "70456148",
   "metadata": {},
   "outputs": [
    {
     "data": {
      "text/plain": [
       "bool"
      ]
     },
     "execution_count": 34,
     "metadata": {},
     "output_type": "execute_result"
    }
   ],
   "source": [
    "value=True\n",
    "type(value)"
   ]
  },
  {
   "cell_type": "code",
   "execution_count": 35,
   "id": "c13e1f11",
   "metadata": {},
   "outputs": [
    {
     "data": {
      "text/plain": [
       "bool"
      ]
     },
     "execution_count": 35,
     "metadata": {},
     "output_type": "execute_result"
    }
   ],
   "source": [
    "value=False\n",
    "type(value)"
   ]
  },
  {
   "cell_type": "code",
   "execution_count": 37,
   "id": "143b8318",
   "metadata": {},
   "outputs": [],
   "source": [
    "true=500\n"
   ]
  },
  {
   "cell_type": "markdown",
   "id": "665b10e5",
   "metadata": {},
   "source": [
    "# complex"
   ]
  },
  {
   "cell_type": "markdown",
   "id": "d8da7a20",
   "metadata": {},
   "source": [
    "* it represent as a+bj\n",
    "* where a is real number\n",
    "* b is an imagizanary number\n",
    "* ex: 3+4j"
   ]
  },
  {
   "cell_type": "code",
   "execution_count": 41,
   "id": "a6e0d10e",
   "metadata": {},
   "outputs": [
    {
     "data": {
      "text/plain": [
       "complex"
      ]
     },
     "execution_count": 41,
     "metadata": {},
     "output_type": "execute_result"
    }
   ],
   "source": [
    "value=3+4j\n",
    "type(value)"
   ]
  },
  {
   "cell_type": "code",
   "execution_count": 42,
   "id": "b325e7c8",
   "metadata": {},
   "outputs": [
    {
     "data": {
      "text/plain": [
       "['__abs__',\n",
       " '__add__',\n",
       " '__bool__',\n",
       " '__class__',\n",
       " '__complex__',\n",
       " '__delattr__',\n",
       " '__dir__',\n",
       " '__doc__',\n",
       " '__eq__',\n",
       " '__format__',\n",
       " '__ge__',\n",
       " '__getattribute__',\n",
       " '__getnewargs__',\n",
       " '__getstate__',\n",
       " '__gt__',\n",
       " '__hash__',\n",
       " '__init__',\n",
       " '__init_subclass__',\n",
       " '__le__',\n",
       " '__lt__',\n",
       " '__mul__',\n",
       " '__ne__',\n",
       " '__neg__',\n",
       " '__new__',\n",
       " '__pos__',\n",
       " '__pow__',\n",
       " '__radd__',\n",
       " '__reduce__',\n",
       " '__reduce_ex__',\n",
       " '__repr__',\n",
       " '__rmul__',\n",
       " '__rpow__',\n",
       " '__rsub__',\n",
       " '__rtruediv__',\n",
       " '__setattr__',\n",
       " '__sizeof__',\n",
       " '__str__',\n",
       " '__sub__',\n",
       " '__subclasshook__',\n",
       " '__truediv__',\n",
       " 'conjugate',\n",
       " 'imag',\n",
       " 'real']"
      ]
     },
     "execution_count": 42,
     "metadata": {},
     "output_type": "execute_result"
    }
   ],
   "source": [
    "dir(value)"
   ]
  },
  {
   "cell_type": "code",
   "execution_count": null,
   "id": "e4b0b04b",
   "metadata": {},
   "outputs": [],
   "source": [
    "# value is kind of package \n",
    "# m-1: conjugate\n",
    "# m-2: imag\n",
    "# m-3: real"
   ]
  },
  {
   "cell_type": "code",
   "execution_count": null,
   "id": "1f4426b8",
   "metadata": {},
   "outputs": [],
   "source": [
    "# package name . method name"
   ]
  },
  {
   "cell_type": "code",
   "execution_count": 43,
   "id": "a44858ea",
   "metadata": {},
   "outputs": [
    {
     "data": {
      "text/plain": [
       "(3-4j)"
      ]
     },
     "execution_count": 43,
     "metadata": {},
     "output_type": "execute_result"
    }
   ],
   "source": [
    "value=3+4j\n",
    "dir(value)\n",
    "# conjugate imag real\n",
    "value.conjugate()"
   ]
  },
  {
   "cell_type": "code",
   "execution_count": 44,
   "id": "4fd0ce17",
   "metadata": {},
   "outputs": [
    {
     "data": {
      "text/plain": [
       "3.0"
      ]
     },
     "execution_count": 44,
     "metadata": {},
     "output_type": "execute_result"
    }
   ],
   "source": [
    "value.real"
   ]
  },
  {
   "cell_type": "code",
   "execution_count": 45,
   "id": "83487922",
   "metadata": {},
   "outputs": [
    {
     "data": {
      "text/plain": [
       "4.0"
      ]
     },
     "execution_count": 45,
     "metadata": {},
     "output_type": "execute_result"
    }
   ],
   "source": [
    "value.imag"
   ]
  },
  {
   "cell_type": "code",
   "execution_count": 46,
   "id": "a999f8cb",
   "metadata": {},
   "outputs": [
    {
     "data": {
      "text/plain": [
       "['__abs__',\n",
       " '__add__',\n",
       " '__bool__',\n",
       " '__class__',\n",
       " '__complex__',\n",
       " '__delattr__',\n",
       " '__dir__',\n",
       " '__doc__',\n",
       " '__eq__',\n",
       " '__format__',\n",
       " '__ge__',\n",
       " '__getattribute__',\n",
       " '__getnewargs__',\n",
       " '__getstate__',\n",
       " '__gt__',\n",
       " '__hash__',\n",
       " '__init__',\n",
       " '__init_subclass__',\n",
       " '__le__',\n",
       " '__lt__',\n",
       " '__mul__',\n",
       " '__ne__',\n",
       " '__neg__',\n",
       " '__new__',\n",
       " '__pos__',\n",
       " '__pow__',\n",
       " '__radd__',\n",
       " '__reduce__',\n",
       " '__reduce_ex__',\n",
       " '__repr__',\n",
       " '__rmul__',\n",
       " '__rpow__',\n",
       " '__rsub__',\n",
       " '__rtruediv__',\n",
       " '__setattr__',\n",
       " '__sizeof__',\n",
       " '__str__',\n",
       " '__sub__',\n",
       " '__subclasshook__',\n",
       " '__truediv__',\n",
       " 'conjugate',\n",
       " 'imag',\n",
       " 'real']"
      ]
     },
     "execution_count": 46,
     "metadata": {},
     "output_type": "execute_result"
    }
   ],
   "source": [
    "dir(value)"
   ]
  },
  {
   "cell_type": "markdown",
   "id": "f50273b4",
   "metadata": {},
   "source": [
    "* syntax error===== avoid\n",
    "* name error:variable is not defined\n",
    "* attribute error: module is not aviable"
   ]
  },
  {
   "cell_type": "markdown",
   "id": "068d58e1",
   "metadata": {},
   "source": [
    "* integer=====int\n",
    "* float=======float\n",
    "* string======str\n",
    "* boolean=====bool\n",
    "* complex======complex"
   ]
  },
  {
   "cell_type": "code",
   "execution_count": null,
   "id": "208559c4",
   "metadata": {},
   "outputs": [],
   "source": []
  }
 ],
 "metadata": {
  "kernelspec": {
   "display_name": "Python 3 (ipykernel)",
   "language": "python",
   "name": "python3"
  },
  "language_info": {
   "codemirror_mode": {
    "name": "ipython",
    "version": 3
   },
   "file_extension": ".py",
   "mimetype": "text/x-python",
   "name": "python",
   "nbconvert_exporter": "python",
   "pygments_lexer": "ipython3",
   "version": "3.11.5"
  }
 },
 "nbformat": 4,
 "nbformat_minor": 5
}
