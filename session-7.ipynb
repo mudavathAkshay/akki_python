{
 "cells": [
  {
   "cell_type": "code",
   "execution_count": 1,
   "id": "87b30bcd",
   "metadata": {},
   "outputs": [
    {
     "name": "stdout",
     "output_type": "stream",
     "text": [
      "============== conversation between daughter and mom ==================\n",
      "Daughter: heyy mom\n",
      "Mom: yess betaa\n",
      "Daughter: did you know the from today the govt providing free buses\n",
      "Mom: oh! nice\n",
      "Daughter: shell we go to grand mother's home\n",
      "Mom: kk\n",
      "================ reached to bus stop===========================\n",
      "conductor: show me your id card\n",
      "Mom: we are not carry any id cards\n",
      "Conductorthen pay the money\n",
      "Mom: how much?\n",
      "Conductor:how many k/m you travel \n",
      "Mom: 25\n",
      "Conductor: per k/m is: 2\n",
      "Mom: give to conductor 50\n"
     ]
    }
   ],
   "source": [
    "print('============== conversation between daughter and mom ==================')\n",
    "input('Daughter: ')\n",
    "input('Mom: ')\n",
    "input('Daughter: ')\n",
    "input('Mom: ')\n",
    "input('Daughter: ')\n",
    "input('Mom: ')\n",
    "print('================ reached to bus stop===========================')\n",
    "input('conductor: ')\n",
    "input('Mom: ')\n",
    "input('Conductor')\n",
    "input('Mom: ')\n",
    "input('Conductor:')\n",
    "distance=eval(input('Mom: '))\n",
    "charge=eval(input('Conductor: per k/m is: '))\n",
    "total=distance*charge\n",
    "print(f'Mom: give to conductor {total}')"
   ]
  },
  {
   "cell_type": "code",
   "execution_count": null,
   "id": "c93b0351",
   "metadata": {},
   "outputs": [],
   "source": []
  },
  {
   "cell_type": "code",
   "execution_count": 2,
   "id": "3d22b85a",
   "metadata": {
    "scrolled": true
   },
   "outputs": [
    {
     "name": "stdout",
     "output_type": "stream",
     "text": [
      "================= conversation between Pinky and Akki================\n",
      "Akki: order the food \n",
      "Pinky: order any thing  \n",
      "Akki: two biriyanu and two cool drink\n",
      "===================== aftter the bill will came=====================\n",
      "Pinky: how much the bill\n",
      "akki: 1000\n",
      "Pinky: i have thirty percent amount :30\n",
      "pinky: give the amount is 300.0\n",
      "akki: wants to add more700.0\n",
      "Akki: add the pinky amount his amount and paid the bill : 1000.0\n"
     ]
    }
   ],
   "source": [
    "print('================= conversation between Pinky and Akki================')\n",
    "print('Akki: order the food ')\n",
    "print('Pinky: order any thing  ')\n",
    "print('Akki: two biriyanu and two cool drink')\n",
    "print('===================== aftter the bill will came=====================')\n",
    "print('Pinky: how much the bill')\n",
    "bill=eval(input('akki: '))\n",
    "bills=eval(input('Pinky: i have thirty percent amount :'))\n",
    "pinky_amount=1000/100*30\n",
    "print(f'pinky: give the amount is {pinky_amount}')\n",
    "akki_amount=bill-pinky_amount\n",
    "print(f'akki: wants to add more{akki_amount}')\n",
    "total_bill=pinky_amount+akki_amount\n",
    "print(f'Akki: add the pinky amount his amount and paid the bill : {total_bill}')\n"
   ]
  },
  {
   "cell_type": "code",
   "execution_count": 4,
   "id": "3323e8af",
   "metadata": {},
   "outputs": [
    {
     "data": {
      "text/plain": [
       "11.25"
      ]
     },
     "execution_count": 4,
     "metadata": {},
     "output_type": "execute_result"
    }
   ],
   "source": [
    "45/4 # it is normal devision"
   ]
  },
  {
   "cell_type": "code",
   "execution_count": 6,
   "id": "84862bed",
   "metadata": {},
   "outputs": [
    {
     "data": {
      "text/plain": [
       "1"
      ]
     },
     "execution_count": 6,
     "metadata": {},
     "output_type": "execute_result"
    }
   ],
   "source": [
    "45%4 # it will get the reminder"
   ]
  },
  {
   "cell_type": "code",
   "execution_count": 8,
   "id": "1538bf18",
   "metadata": {},
   "outputs": [
    {
     "data": {
      "text/plain": [
       "11"
      ]
     },
     "execution_count": 8,
     "metadata": {},
     "output_type": "execute_result"
    }
   ],
   "source": [
    "45//4 # it will get the quotient"
   ]
  },
  {
   "cell_type": "code",
   "execution_count": null,
   "id": "869f1e99",
   "metadata": {},
   "outputs": [],
   "source": [
    "# conduction operation\n",
    "# if- else"
   ]
  },
  {
   "cell_type": "markdown",
   "id": "3ebfc0f8",
   "metadata": {},
   "source": [
    "### if"
   ]
  },
  {
   "cell_type": "code",
   "execution_count": 9,
   "id": "06ceb4da",
   "metadata": {},
   "outputs": [
    {
     "data": {
      "text/plain": [
       "True"
      ]
     },
     "execution_count": 9,
     "metadata": {},
     "output_type": "execute_result"
    }
   ],
   "source": [
    "145>34"
   ]
  },
  {
   "cell_type": "code",
   "execution_count": 10,
   "id": "cde43cf4",
   "metadata": {},
   "outputs": [
    {
     "data": {
      "text/plain": [
       "False"
      ]
     },
     "execution_count": 10,
     "metadata": {},
     "output_type": "execute_result"
    }
   ],
   "source": [
    "67<32"
   ]
  },
  {
   "cell_type": "code",
   "execution_count": null,
   "id": "ac92f144",
   "metadata": {},
   "outputs": [],
   "source": [
    "# when ever it is true do someting\n",
    "# if it is false then then do someting"
   ]
  },
  {
   "cell_type": "code",
   "execution_count": 12,
   "id": "75031fea",
   "metadata": {},
   "outputs": [
    {
     "name": "stdout",
     "output_type": "stream",
     "text": [
      "hyy janu\n",
      "can we go to movie\n"
     ]
    }
   ],
   "source": [
    "name='janu'\n",
    "if name=='janu':\n",
    "    print( 'hyy janu')\n",
    "    print('can we go to movie')"
   ]
  },
  {
   "cell_type": "code",
   "execution_count": 13,
   "id": "de35a56b",
   "metadata": {},
   "outputs": [
    {
     "name": "stdout",
     "output_type": "stream",
     "text": [
      " add the 10, and 50, is 60\n"
     ]
    }
   ],
   "source": [
    "name='number'\n",
    "if True:\n",
    "    a=10\n",
    "    b=50\n",
    "    c=a+b\n",
    "    print(f' add the {a}, and {b}, is {c}')"
   ]
  },
  {
   "cell_type": "code",
   "execution_count": 15,
   "id": "22546ac9",
   "metadata": {},
   "outputs": [],
   "source": [
    "if False:\n",
    "    a=10"
   ]
  },
  {
   "cell_type": "code",
   "execution_count": null,
   "id": "b8fd08d4",
   "metadata": {},
   "outputs": [],
   "source": [
    "# in if it will false then the program will run but we not get any out put"
   ]
  },
  {
   "cell_type": "markdown",
   "id": "625875b9",
   "metadata": {},
   "source": [
    "## if-else"
   ]
  },
  {
   "cell_type": "code",
   "execution_count": 14,
   "id": "95adbbc6",
   "metadata": {},
   "outputs": [
    {
     "name": "stdout",
     "output_type": "stream",
     "text": [
      " dividing 100, and 50, is 2.0\n"
     ]
    }
   ],
   "source": [
    "name='number'\n",
    "if False:\n",
    "    a=10\n",
    "    b=50\n",
    "    c=a+b\n",
    "    print(f' add the {a}, and {b}, is {c}')\n",
    "else:\n",
    "    a=100\n",
    "    b=50\n",
    "    c=a/b\n",
    "    print(f' dividing {a}, and {b}, is {c}')"
   ]
  },
  {
   "cell_type": "code",
   "execution_count": null,
   "id": "a566429c",
   "metadata": {},
   "outputs": [],
   "source": [
    "# suppose if will get false the it will go direct to else\n",
    "# then it will comes else out put"
   ]
  },
  {
   "cell_type": "code",
   "execution_count": 24,
   "id": "5303af29",
   "metadata": {},
   "outputs": [
    {
     "name": "stdout",
     "output_type": "stream",
     "text": [
      "1\n",
      "2\n",
      "number1\n",
      "number2\n",
      "number3\n"
     ]
    }
   ],
   "source": [
    "print(1)\n",
    "print(2)\n",
    "if True:\n",
    "    print('number1')\n",
    "    print('number2')\n",
    "print('number3')"
   ]
  },
  {
   "cell_type": "code",
   "execution_count": 20,
   "id": "c3c24c75",
   "metadata": {},
   "outputs": [
    {
     "name": "stdout",
     "output_type": "stream",
     "text": [
      "1\n",
      "2\n",
      "number3\n"
     ]
    }
   ],
   "source": [
    "print(1)\n",
    "print(2)\n",
    "if False:\n",
    "    print('number1')\n",
    "    print('number2')\n",
    "print('number3')"
   ]
  },
  {
   "cell_type": "code",
   "execution_count": null,
   "id": "3d2e672a",
   "metadata": {},
   "outputs": [],
   "source": [
    "# if there IndentationError there space is missing\n",
    "# for that you can use tab button once \n",
    "# are press the back button untel the will change red to green"
   ]
  },
  {
   "cell_type": "code",
   "execution_count": null,
   "id": "e88e6221",
   "metadata": {},
   "outputs": [],
   "source": []
  }
 ],
 "metadata": {
  "kernelspec": {
   "display_name": "Python 3 (ipykernel)",
   "language": "python",
   "name": "python3"
  },
  "language_info": {
   "codemirror_mode": {
    "name": "ipython",
    "version": 3
   },
   "file_extension": ".py",
   "mimetype": "text/x-python",
   "name": "python",
   "nbconvert_exporter": "python",
   "pygments_lexer": "ipython3",
   "version": "3.11.5"
  }
 },
 "nbformat": 4,
 "nbformat_minor": 5
}
